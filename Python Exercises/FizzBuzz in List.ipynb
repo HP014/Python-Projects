{
 "cells": [
  {
   "cell_type": "code",
   "execution_count": 48,
   "id": "4ccdabd4",
   "metadata": {},
   "outputs": [],
   "source": [
    "def fizz_buzz(maximum):\n",
    "\tout=[]\n",
    "\tfor n in range(1,maximum+1):\n",
    "\t\tif n%5==0 and n%3==0:\tout.append(\"FizzBuzz\")\n",
    "\t\tif n%3==0:\tout.append(\"Fizz\")\n",
    "\t\tif n%5==0:\tout.append(\"Buzz\")\n",
    "\t\tif n%3!=0 and n%5!=0: out.append(n)\n",
    "\treturn out"
   ]
  },
  {
   "cell_type": "code",
   "execution_count": 50,
   "id": "8c8b4d07",
   "metadata": {},
   "outputs": [
    {
     "data": {
      "text/plain": [
       "[1,\n",
       " 2,\n",
       " 'Fizz',\n",
       " 4,\n",
       " 'Buzz',\n",
       " 'Fizz',\n",
       " 7,\n",
       " 8,\n",
       " 'Fizz',\n",
       " 'Buzz',\n",
       " 11,\n",
       " 'Fizz',\n",
       " 13,\n",
       " 14,\n",
       " 'FizzBuzz',\n",
       " 'Fizz',\n",
       " 'Buzz',\n",
       " 16,\n",
       " 17,\n",
       " 'Fizz',\n",
       " 19,\n",
       " 'Buzz',\n",
       " 'Fizz',\n",
       " 22,\n",
       " 23,\n",
       " 'Fizz',\n",
       " 'Buzz',\n",
       " 26,\n",
       " 'Fizz',\n",
       " 28,\n",
       " 29,\n",
       " 'FizzBuzz',\n",
       " 'Fizz',\n",
       " 'Buzz']"
      ]
     },
     "execution_count": 50,
     "metadata": {},
     "output_type": "execute_result"
    }
   ],
   "source": [
    "fizz_buzz(30)"
   ]
  },
  {
   "cell_type": "code",
   "execution_count": null,
   "id": "cb808dec",
   "metadata": {},
   "outputs": [],
   "source": []
  }
 ],
 "metadata": {
  "kernelspec": {
   "display_name": "Python 3",
   "language": "python",
   "name": "python3"
  },
  "language_info": {
   "codemirror_mode": {
    "name": "ipython",
    "version": 3
   },
   "file_extension": ".py",
   "mimetype": "text/x-python",
   "name": "python",
   "nbconvert_exporter": "python",
   "pygments_lexer": "ipython3",
   "version": "3.8.8"
  }
 },
 "nbformat": 4,
 "nbformat_minor": 5
}
